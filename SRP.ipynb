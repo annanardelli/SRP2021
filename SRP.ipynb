{
 "cells": [
  {
   "cell_type": "code",
   "execution_count": 23,
   "id": "79df1f7b",
   "metadata": {},
   "outputs": [
    {
     "name": "stdout",
     "output_type": "stream",
     "text": [
      "\n",
      "[['Course', 'Syllabus', 'CS-104', '-', 'Introduction', 'to', 'Problem', 'Solving', 'and', 'Software', 'Development', 'Credits:', '3', 'Contact', 'hours:', '3', 'Instructor™s', 'or', 'course', 'coordinator™s', 'name:', 'Gil', 'Eckert', 'Required', 'Textbook', 'and', 'Other', 'Materials:', 'Title:', 'Introduction', 'to', 'Problem', 'Solving', '&', 'Software', 'Development.', 'An', 'ebook', 'designed', 'specifically', 'for', 'Monmouth', 'University', 'students', 'taking', 'CS104', 'ISBN:', '978', '-1-284-01330-6', 'Price:', '$47.61', '(you', 'must', 'enter', 'promo', 'code', 'CS104DALE)', 'Published:', '08/08/2019', 'Course', 'Descri', 'ption:', 'Introduces', 'a', 'broad', 'overview', 'of', 'problem', 'solving,', 'computing', 'topics,', 'fundamental', 'concepts', 'and', 'methodologies', 'of', 'software', 'development', 'designed', 'to', 'provide', 'students', 'with', 'awareness', 'of', 'the', 'computing', \"field's\", 'many', 'aspects.', 'Topics', 'include', 'fundamentals', 'of', 'comput', 'er', 'architecture,', 'operating', 'systems,', 'applications', 'and,', 'problem', '-solving.', 'It', 'emphasizes', 'the', 'main', 'phases', 'of', 'the', 'software', 'development', 'lifecycle,', 'such', 'as', 'requirements,', 'design,', 'implementation,', 'testing,', 'project', 'planning.', 'Assignments', 'are', 'completed', 'using', 'computing', 'applications', 'including', 'spreadsheets,', 'databases,', 'and', 'various', 'programming', 'platforms.', 'In', 'addition,', 'it', 'stresses', 'the', 'difference', 'between', 'the', 'software', 'product', 'and', 'process.', 'Introduces', 'social', 'and', 'ethical', 'issues', 'related', 'to', 'computing', 'and', 'explores', 'the', 'local', 'and', 'globa', 'l', 'impact', 'of', 'computing', 'on', 'individuals,', 'organizations', 'and', 'society.', 'It', 'also', 'gives', 'students', 'their', 'initial', 'exposure', 'to', 'group', 'project', 'work', 'in', 'robotics', 'culminating', 'with', 'a', 'competition', 'and', 'presentation.', 'Prerequisite(s):', 'None', 'Required', 'or', 'selected', 'elective:', 'Require', 'd', 'Specific', 'outcomes', 'of', 'instruction:', '(2)', 'Design,', 'implement,', 'and', 'evaluate', 'a', 'computing', '-based', 'solution', 'to', 'meet', 'a', 'given', 'set', 'of', 'computing', 'requirements', 'in', 'the', 'context', 'of', 'the', \"program's\", 'discipline', '(ABET)', '(5)', 'Function', 'effectively', 'as', 'a', 'member', 'or', 'leader', 'of', 'a', 'team', 'engaged', 'in', 'activities', 'appropriate', 'to', 'the', \"program's\", 'discipline', '(ABET)', '(6)', 'Apply', 'computer', 'science', 'theory', 'and', 'software', 'development', 'fundamentals', 'to', 'produce', 'computing', '-based', 'solutions', '(Computer', 'Science', 'Department)', 'Relationship', 'of', 'course', 'to', 'student', 'outcomes', 'listed:', 'In', 'this', 'course', 'students', 'are', 'given', 'an', 'opportunity', 'to:', 'Identify', 'key', 'technical', 'developments', 'and', 'ideas', 'in', 'computing', 'Correctly', 'evaluate', 'simple', 'logical', '(Boolean)', 'expressions'], ['List', 'and', 'describe', 'the', 'basic', 'architectural', 'units', 'of', 'a', 'computer', 'Distinguish', 'netw', 'orks,', 'the', 'Internet,', 'and', 'the', 'World', 'Wide', 'Web', 'Identify', 'and', 'work', 'with', 'various', 'document', 'and', 'file', 'formats', 'Identify,', 'use,', 'and', 'distinguish', 'several', 'basic', 'data', 'types', 'Design', 'an', 'algorithm', 'to', 'solve', 'a', 'problem', 'Design', 'a', 'system', 'to', 'meet', 'desired', 'needs', 'Use', 'version', 'control', 'to', 'manage', 'a', 'software', 'development', 'project', 'Implement', 'a', 'software', 'application', 'using', 'cloud', 'computing', 'services', 'Function', 'as', 'a', 'member', 'or', 'leader', 'of', 'a', 'group', 'project', 'Understand', 'professional', 'and', 'ethical', 'responsibility', 'Apply', 'software', 'engineering', 'methodologies', 'to', 'class', 'pr', 'ojects', 'Understand', 'the', 'broad', 'education', 'necessary', 'to', 'assess', 'the', 'impact', 'of', 'engineering', 'solutions', 'in', 'a', 'global', 'and', 'societal', 'context.', 'Topics', 'Covered:', 'Ł', 'Computing', 'Layers', 'Ł', 'History', 'of', 'Computing', 'Hardware', 'and', 'Software', 'Ł', 'Generations', 'of', 'Computing', 'Ł', 'Flowcharting', 'concepts', 'Ł', 'Familiarization', 'with', 'robots,', 'setup,', 'programming', 'Ł', 'Environments', '(API,IDE)', 'Ł', 'Programming', 'Language', 'Basics', '(Python)', 'Ł', 'Syntax', 'Ł', 'SE', 'System', 'Characteristics', 'Ł', 'SE', 'Requirements', 'Ł', 'SE', 'Profession', 'and', 'Ethics', 'Ł', 'SE', 'Principles', 'Ł', 'SE', 'Sprints', 'Ł', 'Formal', 'Problem', 'Solving', 'Ł', 'Pseudocode', 'Ł', 'Algorithmic', 'Development', 'Ł', 'Testing', 'Ł', 'Sorts', 'Ł', 'Searches', 'Ł', 'Repetition', 'Ł', 'Controlled', 'Loops', 'Ł', 'Abstraction', 'Ł', 'Indexing', 'Ł', 'Arrays/Lists', 'Ł', 'Records', 'Ł', 'Boolean', 'Logic', 'Ł', 'Stacks', 'Ł', 'Queues', 'Ł', 'Trees', 'Ł', 'Subprograms/Functions', 'Ł', 'Parameters', 'Ł', 'Compilers', 'vs', 'Interpreters', 'Ł', 'Language', 'Functionality', 'Ł', 'Procedural', 'vs', 'OO', 'languages', 'Ł', 'Spreadsheets']]\n"
     ]
    }
   ],
   "source": [
    "import PyPDF2\n",
    "import pickle\n",
    "\n",
    "file = open(\"/Users/isabellachiaravalloti/Downloads/CS104ABETSyllabus.pdf\",\"rb\")\n",
    "fileReader = PyPDF2.PdfFileReader(file)\n",
    "#print(fileReader.numPages)\n",
    "#print(fileReader.getDocumentInfo())\n",
    "print()\n",
    "\n",
    "\n",
    "\n",
    "\n",
    "numPages = fileReader.numPages\n",
    "pageList = []\n",
    "\n",
    "for page in range(0, numPages):\n",
    "    pageObj = fileReader.getPage(page)\n",
    "    text = pageObj.extractText()\n",
    "    currentPage = text.split()\n",
    "    pageList.append(currentPage)\n",
    "    \n",
    "#print(pageList)\n",
    "\n",
    "\n",
    "file_name = \"sample.txt\"\n",
    "\n",
    "open_file = open(file_name, \"wb\")\n",
    "pickle.dump(pageList, open_file)\n",
    "open_file.close()\n",
    "\n",
    "open_file = open(file_name, \"rb\")\n",
    "loaded_list = pickle.load(open_file)\n",
    "open_file.close()\n",
    "\n",
    "print(loaded_list)\n",
    "\n",
    "\n"
   ]
  },
  {
   "cell_type": "code",
   "execution_count": null,
   "id": "82a70ecd",
   "metadata": {},
   "outputs": [],
   "source": []
  },
  {
   "cell_type": "code",
   "execution_count": null,
   "id": "1d4ee858",
   "metadata": {},
   "outputs": [],
   "source": []
  }
 ],
 "metadata": {
  "kernelspec": {
   "display_name": "Python 3",
   "language": "python",
   "name": "python3"
  },
  "language_info": {
   "codemirror_mode": {
    "name": "ipython",
    "version": 3
   },
   "file_extension": ".py",
   "mimetype": "text/x-python",
   "name": "python",
   "nbconvert_exporter": "python",
   "pygments_lexer": "ipython3",
   "version": "3.8.8"
  }
 },
 "nbformat": 4,
 "nbformat_minor": 5
}
